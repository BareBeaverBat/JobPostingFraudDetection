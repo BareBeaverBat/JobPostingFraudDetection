{
 "cells": [
  {
   "cell_type": "code",
   "execution_count": 1,
   "metadata": {
    "collapsed": true
   },
   "outputs": [],
   "source": [
    "#todo consider going through base text data before normal preprocessing\n",
    "# and finding words which are conjoined & then separating them?\n",
    "# is this computationally intractable?\n",
    "# for each whitespace-separated token, go through each index in the token\n",
    "# & see whether the substring up to that index and the substring after that index are both words?\n",
    "# http://pyenchant.github.io/pyenchant/api/enchant.checker.html\n",
    "# find spellcheck errors in text, then for each of those errors\n",
    "# do the above iteration over char indices in the word to find a splitting point\n",
    "# then if one's found you make a new string with the two actual words separated by\n",
    "# a space and then modify the original text in place"
   ]
  },
  {
   "cell_type": "code",
   "execution_count": 2,
   "outputs": [],
   "source": [
    "from DataNamesReference import *\n",
    "import enchant\n",
    "from enchant.checker import SpellChecker\n",
    "from UtilityFuncs import getNonEmptyLines\n",
    "\n",
    "import time\n",
    "\n",
    "\n",
    "engDict = enchant.DictWithPWL(tag=LANG_CODE, pwl= SPELL_CHECKER_PERSONAL_WORD_LIST_PATH)\n",
    "\n",
    "\n",
    "\n",
    "benefitsLines = getNonEmptyLines(benefitsSummaryFilePath)\n"
   ],
   "metadata": {
    "collapsed": false,
    "pycharm": {
     "name": "#%%\n"
    }
   }
  },
  {
   "cell_type": "code",
   "execution_count": 4,
   "outputs": [
    {
     "name": "stdout",
     "output_type": "stream",
     "text": [
      "to process 4372 words, 422 of which were misspelled and 249 of which were specifically a pair of words spliced together,\n",
      " the spell checker required 4.601748 seconds, for 0.001053 seconds per word processed\n",
      "to process 54800 words, 5434 of which were misspelled and 2496 of which were specifically a pair of words spliced together,\n",
      " the spell checker required 39.923631 seconds, for 0.000729 seconds per word processed\n"
     ]
    }
   ],
   "source": [
    "def unspliceWords(langDict, rawText):\n",
    "    checker = SpellChecker(lang=langDict, text=rawText)\n",
    "    allBadWordCount = 0\n",
    "    splicedWords = []\n",
    "\n",
    "    for errToken in checker:\n",
    "        allBadWordCount += 1\n",
    "        errStr = errToken.word\n",
    "        errLen = len(errStr)\n",
    "\n",
    "        for charInd in range(2, errLen-2):\n",
    "            firstWordStr = errStr[0:charInd]\n",
    "            secondWordStr = errStr[charInd:]\n",
    "            if checker.check(firstWordStr) \\\n",
    "                and checker.check(secondWordStr):\n",
    "                splicedWords.append((errStr, firstWordStr, secondWordStr))\n",
    "                errToken.replace_always(firstWordStr + \" \" + secondWordStr)\n",
    "                break\n",
    "    \n",
    "    unsplicedText = checker.get_text()\n",
    "    return unsplicedText, allBadWordCount, splicedWords\n",
    "\n",
    "testBenefitsRawText = \" \".join(benefitsLines[:180])\n",
    "testBenefitsRawTextWordLen = len(testBenefitsRawText.split())\n",
    "\n",
    "benefitsTestStartTime = time.time()\n",
    "testBenefitsUnsplicedText, totalNumBadWords, splicedWords = unspliceWords(engDict, testBenefitsRawText)\n",
    "benefitsTestEndTime = time.time()\n",
    "benefitsTestDuration = benefitsTestEndTime - benefitsTestStartTime\n",
    "\n",
    "benefitsTestDurationPerWord = benefitsTestDuration/testBenefitsRawTextWordLen\n",
    "\n",
    "print(\"to process %d words, %d of which were misspelled and %d of which were specifically \"\n",
    "      \"a pair of words spliced together,\\n the spell checker required %f seconds, for %f seconds per word processed\"\n",
    "      % (testBenefitsRawTextWordLen, totalNumBadWords, len(splicedWords), benefitsTestDuration,\n",
    "         benefitsTestDurationPerWord))\n",
    "\n",
    "testBenefitsWordsAdded = len(testBenefitsUnsplicedText.split()) - testBenefitsRawTextWordLen\n",
    "\n",
    "bigTestBenefitsRawText = \" \".join(benefitsLines[:1800])\n",
    "bigTestBenefitsRawTextWordLen = len(bigTestBenefitsRawText.split())\n",
    "\n",
    "benefitsBigTestStartTime = time.time()\n",
    "bigTestBenefitsUnsplicedText, bigTestTotalNumBadWords, bigTestSplicedWords = unspliceWords(engDict, bigTestBenefitsRawText)\n",
    "benefitsBigTestEndTime = time.time()\n",
    "benefitsBigTestDuration = benefitsBigTestEndTime - benefitsBigTestStartTime\n",
    "\n",
    "benefitsBigTestDurationPerWord = benefitsBigTestDuration/bigTestBenefitsRawTextWordLen\n",
    "\n",
    "print(\"to process %d words, %d of which were misspelled and %d of which were specifically \"\n",
    "      \"a pair of words spliced together,\\n the spell checker required %f seconds, for %f seconds per word processed\"\n",
    "      % (bigTestBenefitsRawTextWordLen, bigTestTotalNumBadWords, len(bigTestSplicedWords), benefitsBigTestDuration,\n",
    "         benefitsBigTestDurationPerWord))\n",
    "\n",
    "bigTestBenefitsWordsAdded = len(bigTestBenefitsUnsplicedText.split()) - bigTestBenefitsRawTextWordLen\n"
   ],
   "metadata": {
    "collapsed": false,
    "pycharm": {
     "name": "#%%\n"
    }
   }
  },
  {
   "cell_type": "code",
   "execution_count": null,
   "outputs": [],
   "source": [
    "\n"
   ],
   "metadata": {
    "collapsed": false,
    "pycharm": {
     "name": "#%%\n"
    }
   }
  }
 ],
 "metadata": {
  "kernelspec": {
   "display_name": "Python 3",
   "language": "python",
   "name": "python3"
  },
  "language_info": {
   "codemirror_mode": {
    "name": "ipython",
    "version": 2
   },
   "file_extension": ".py",
   "mimetype": "text/x-python",
   "name": "python",
   "nbconvert_exporter": "python",
   "pygments_lexer": "ipython2",
   "version": "2.7.6"
  }
 },
 "nbformat": 4,
 "nbformat_minor": 0
}