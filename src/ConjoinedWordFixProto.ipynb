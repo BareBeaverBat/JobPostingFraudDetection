{
 "cells": [
  {
   "cell_type": "code",
   "execution_count": null,
   "metadata": {
    "collapsed": true
   },
   "outputs": [],
   "source": [
    "#todo consider going through base text data before normal preprocessing\n",
    "# and finding words which are conjoined & then separating them?\n",
    "# is this computationally intractable?\n",
    "# for each whitespace-separated token, go through each index in the token\n",
    "# & see whether the substring up to that index and the substring after that index are both words?\n",
    "# http://pyenchant.github.io/pyenchant/api/enchant.checker.html\n",
    "# find spellcheck errors in text, then for each of those errors\n",
    "# do the above iteration over char indices in the word to find a splitting point\n",
    "# then if one's found you make a new string with the two actual words separated by\n",
    "# a space and then modify the original text in place\n"
   ]
  }
 ],
 "metadata": {
  "kernelspec": {
   "display_name": "Python 3",
   "language": "python",
   "name": "python3"
  },
  "language_info": {
   "codemirror_mode": {
    "name": "ipython",
    "version": 2
   },
   "file_extension": ".py",
   "mimetype": "text/x-python",
   "name": "python",
   "nbconvert_exporter": "python",
   "pygments_lexer": "ipython2",
   "version": "2.7.6"
  }
 },
 "nbformat": 4,
 "nbformat_minor": 0
}