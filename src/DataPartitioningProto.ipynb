{
 "cells": [
  {
   "cell_type": "code",
   "execution_count": 5,
   "metadata": {
    "collapsed": true
   },
   "outputs": [],
   "source": [
    "import pandas as pd\n",
    "import os\n",
    "import numpy as np\n",
    "from DataProcessingRef import *"
   ]
  },
  {
   "cell_type": "code",
   "execution_count": 8,
   "outputs": [],
   "source": [
    "origCleanedDataDf = pd.read_csv(cleanedDataPath)\n",
    "\n",
    "posDataDf = origCleanedDataDf[origCleanedDataDf[FRAUDULENT_LABEL] == 1]\n",
    "negDataDf = origCleanedDataDf[origCleanedDataDf[FRAUDULENT_LABEL] == 0]\n",
    "\n",
    "numPosCases = len(posDataDf)\n",
    "numNegCases = len(negDataDf)\n",
    "\n",
    "trainFrac = 0.7\n",
    "validFrac = 0.15\n",
    "testFrac= 0.15\n",
    "\n",
    "posTrainValidSplitInd = int(trainFrac*numPosCases)\n",
    "posValidTestSplitInd = int((trainFrac+validFrac)*numPosCases)\n",
    "\n",
    "\n",
    "negTrainValidSplitInd = int(trainFrac*numNegCases)\n",
    "negValidTestSplitInd = int((trainFrac+validFrac)*numNegCases)\n"
   ],
   "metadata": {
    "collapsed": false,
    "pycharm": {
     "name": "#%%\n"
    }
   }
  },
  {
   "cell_type": "code",
   "execution_count": 9,
   "outputs": [],
   "source": [
    "#shuffle\n",
    "posDataDf = posDataDf.sample(frac=1)\n",
    "negDataDf = negDataDf.sample(frac=1)\n",
    "\n",
    "#split each category of cases into train/valid/test\n",
    "posTrainDf, posValidDf, posTestDf = np.split(posDataDf, [posTrainValidSplitInd, posValidTestSplitInd])\n",
    "negTrainDf, negValidDf, negTestDf = np.split(negDataDf, [negTrainValidSplitInd, negValidTestSplitInd])\n",
    "\n",
    "# combine pos & neg into final train/valid/test datasets\n",
    "trainDf = pd.concat([posTrainDf, negTrainDf])\n",
    "validDf = pd.concat([posValidDf, negValidDf])\n",
    "testDf = pd.concat([posTestDf, negTestDf])"
   ],
   "metadata": {
    "collapsed": false,
    "pycharm": {
     "name": "#%%\n"
    }
   }
  },
  {
   "cell_type": "code",
   "execution_count": 10,
   "outputs": [],
   "source": [
    "trainDataSaveResult = trainDf.to_csv(TRAIN_DATA_PATH)\n",
    "if trainDataSaveResult is not None:\n",
    "    print(\"saving train dataframe failed with a message (about csv format?): \", trainDataSaveResult)\n",
    "\n",
    "validDataSaveResult = validDf.to_csv(VALIDATION_DATA_PATH)\n",
    "if validDataSaveResult is not None:\n",
    "    print(\"saving valid dataframe failed with a message (about csv format?): \", validDataSaveResult)\n",
    "\n",
    "testDataSaveResult = testDf.to_csv(TEST_DATA_PATH)\n",
    "if testDataSaveResult is not None:\n",
    "    print(\"saving test dataframe failed with a message (about csv format?): \", testDataSaveResult)"
   ],
   "metadata": {
    "collapsed": false,
    "pycharm": {
     "name": "#%%\n"
    }
   }
  },
  {
   "cell_type": "code",
   "execution_count": null,
   "outputs": [],
   "source": [
    "\n"
   ],
   "metadata": {
    "collapsed": false,
    "pycharm": {
     "name": "#%%\n"
    }
   }
  }
 ],
 "metadata": {
  "kernelspec": {
   "display_name": "Python 3",
   "language": "python",
   "name": "python3"
  },
  "language_info": {
   "codemirror_mode": {
    "name": "ipython",
    "version": 2
   },
   "file_extension": ".py",
   "mimetype": "text/x-python",
   "name": "python",
   "nbconvert_exporter": "python",
   "pygments_lexer": "ipython2",
   "version": "2.7.6"
  }
 },
 "nbformat": 4,
 "nbformat_minor": 0
}