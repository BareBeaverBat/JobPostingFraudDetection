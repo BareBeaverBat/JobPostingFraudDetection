{
 "cells": [
  {
   "cell_type": "code",
   "execution_count": 1,
   "metadata": {
    "collapsed": true
   },
   "outputs": [],
   "source": [
    "from datetime import datetime\n",
    "import tensorflow as tf\n",
    "from tensorflow.keras import metrics\n",
    "from tensorflow.keras import callbacks\n",
    "from tensorflow.keras import optimizers\n",
    "import pandas as pd\n",
    "import os\n",
    "\n",
    "from DataNamesReference import *\n",
    "from Hyperparameters import *\n",
    "from DataReformatters import *\n",
    "from UtilityFuncs import evaluateModel\n",
    "from ModelDefinition import fraudModel, NUM_OUTPUTS\n",
    "\n",
    "import absl.logging as abslogging"
   ]
  },
  {
   "cell_type": "code",
   "execution_count": 2,
   "outputs": [],
   "source": [
    "%load_ext tensorboard"
   ],
   "metadata": {
    "collapsed": false,
    "pycharm": {
     "name": "#%%\n"
    }
   }
  },
  {
   "cell_type": "code",
   "execution_count": 3,
   "outputs": [],
   "source": [
    "tf.get_logger().setLevel(abslogging.INFO)\n",
    "# os.environ[\"TF_CPP_MIN_VLOG_LEVEL\"] = \"1\""
   ],
   "metadata": {
    "collapsed": false,
    "pycharm": {
     "name": "#%%\n"
    }
   }
  },
  {
   "cell_type": "code",
   "execution_count": 4,
   "outputs": [],
   "source": [
    "trainDataDf = pd.read_csv(TRAIN_DATA_PATH, **CSV_READ_ARGS)"
   ],
   "metadata": {
    "collapsed": false,
    "pycharm": {
     "name": "#%%\n"
    }
   }
  },
  {
   "cell_type": "code",
   "execution_count": 5,
   "outputs": [],
   "source": [
    "#todo implement use of word2vec pretrained embedding matrix\n",
    "\n",
    "trainTitleSequences = convertTitlesToPaddedSequences(trainDataDf)\n",
    "trainLocationSequences = convertLocationsToPaddedSequences(trainDataDf)\n",
    "trainDepartmentSequences = convertDepartmentsToPaddedSequences(trainDataDf)\n",
    "trainCompanyProfileSequences = convertCompanyProfilesToPaddedSequences(trainDataDf)\n",
    "trainDescriptionSequences = convertDescriptionsToPaddedSequences(trainDataDf)\n",
    "trainRequirementsSequences = convertRequirementsToPaddedSequences(trainDataDf)\n",
    "trainBenefitsSequences = convertBenefitsToPaddedSequences(trainDataDf)"
   ],
   "metadata": {
    "collapsed": false,
    "pycharm": {
     "name": "#%%\n"
    }
   }
  },
  {
   "cell_type": "code",
   "execution_count": 6,
   "outputs": [],
   "source": [
    "posTrainExamples = trainDataDf[trainDataDf[FRAUDULENT_LABEL] == True]\n",
    "numPosTrainExamples = posTrainExamples.shape[0]\n",
    "\n",
    "numTrainExamples = trainDataDf.shape[0]\n",
    "\n",
    "trainPosFrac = numPosTrainExamples/numTrainExamples\n",
    "\n",
    "trainTelecommuting = trainDataDf[TELECOMMUTING_LABEL].astype(\"float32\").to_numpy()\n",
    "trainTelecommuting = np.reshape(trainTelecommuting, (numTrainExamples, 1))\n",
    "\n",
    "trainHasLogo =  trainDataDf[HAS_LOGO_LABEL].astype(\"float32\").to_numpy()\n",
    "trainHasLogo = np.reshape(trainHasLogo, (numTrainExamples, 1))\n",
    "\n",
    "trainHasQuestions =  trainDataDf[HAS_QUESTIONS_LABEL].astype(\"float32\").to_numpy()\n",
    "trainHasQuestions = np.reshape(trainHasQuestions, (numTrainExamples, 1))\n",
    "\n",
    "trainLabels = trainDataDf[FRAUDULENT_LABEL].astype(\"int32\").to_numpy()\n",
    "trainLabels = np.reshape(trainLabels, (numTrainExamples,1))"
   ],
   "metadata": {
    "collapsed": false,
    "pycharm": {
     "name": "#%%\n"
    }
   }
  },
  {
   "cell_type": "code",
   "execution_count": 7,
   "outputs": [
    {
     "name": "stdout",
     "output_type": "stream",
     "text": [
      "cutting outlier salary value(s) at index  6460  within a subset of the data\n",
      " min=  800000000.0 ; max=  1200000000.0 ; midpoint=  1000000000.0 ; range=  400000000.0\n",
      "cutting outlier salary value(s) at index  6567  within a subset of the data\n",
      " min=  500000000.0 ; max=  800000000.0 ; midpoint=  650000000.0 ; range=  300000000.0\n",
      "cutting outlier salary value(s) at index  6861  within a subset of the data\n",
      " min=  6000000.0 ; max=  7000000.0 ; midpoint=  6500000.0 ; range=  1000000.0\n",
      "cutting outlier salary value(s) at index  6958  within a subset of the data\n",
      " min=  150000.0 ; max=  16500000.0 ; midpoint=  8325000.0 ; range=  16350000.0\n",
      "cutting outlier salary value(s) at index  7031  within a subset of the data\n",
      " min=  120000.0 ; max=  15000000.0 ; midpoint=  7560000.0 ; range=  14880000.0\n",
      "cutting outlier salary value(s) at index  9872  within a subset of the data\n",
      " min=  2000000.0 ; max=  15000000.0 ; midpoint=  8500000.0 ; range=  13000000.0\n"
     ]
    }
   ],
   "source": [
    "#for each value of each categorical attribute, converting an index for a list of attribute values \n",
    "# into a vector of 0s with a 1 in that index's position\n",
    "trainExamplesIndexArray = np.arange(numTrainExamples)\n",
    "\n",
    "employmentTypesArray = trainDataDf[EMPLOYMENT_TYPE_LABEL].to_numpy()\n",
    "employmentTypesTrainVectors = np.zeros((numTrainExamples, NUM_EMPLOYMENT_TYPE_OPTIONS), dtype=\"float32\")\n",
    "employmentTypesTrainVectors[trainExamplesIndexArray, employmentTypesArray] = 1\n",
    "\n",
    "requiredExperienceArray = trainDataDf[REQUIRED_EXPERIENCE_LABEL].to_numpy()\n",
    "requiredExperienceTrainVectors = np.zeros((numTrainExamples, NUM_REQUIRED_EXPERIENCE_OPTIONS), dtype=\"float32\")\n",
    "requiredExperienceTrainVectors[trainExamplesIndexArray, requiredExperienceArray] = 1\n",
    "\n",
    "requiredEducationArray = trainDataDf[REQUIRED_EDUCATION_LABEL].to_numpy()\n",
    "requiredEducationTrainVectors = np.zeros((numTrainExamples, NUM_REQUIRED_EDUCATION_OPTIONS), dtype=\"float32\")\n",
    "requiredEducationTrainVectors[trainExamplesIndexArray, requiredEducationArray] = 1\n",
    "\n",
    "industryArray = trainDataDf[INDUSTRY_LABEL].to_numpy()\n",
    "industryTrainVectors = np.zeros((numTrainExamples, NUM_INDUSTRY_OPTIONS), dtype=\"float32\")\n",
    "industryTrainVectors[trainExamplesIndexArray, industryArray] = 1\n",
    "\n",
    "functionArray = trainDataDf[FUNCTION_LABEL].to_numpy()\n",
    "functionTrainVectors = np.zeros((numTrainExamples, NUM_FUNCTION_OPTIONS), dtype=\"float32\")\n",
    "functionTrainVectors[trainExamplesIndexArray, functionArray] = 1\n",
    "\n",
    "\n",
    "trainSalaryData = normalizeSalaryData(trainDataDf)"
   ],
   "metadata": {
    "collapsed": false,
    "pycharm": {
     "name": "#%%\n"
    }
   }
  },
  {
   "cell_type": "code",
   "execution_count": 8,
   "outputs": [],
   "source": [
    "validDataDf = pd.read_csv(VALIDATION_DATA_PATH, **CSV_READ_ARGS)"
   ],
   "metadata": {
    "collapsed": false,
    "pycharm": {
     "name": "#%%\n"
    }
   }
  },
  {
   "cell_type": "code",
   "execution_count": 9,
   "outputs": [],
   "source": [
    "validTitleSequences = convertTitlesToPaddedSequences(validDataDf)\n",
    "validLocationSequences = convertLocationsToPaddedSequences(validDataDf)\n",
    "validDepartmentSequences = convertDepartmentsToPaddedSequences(validDataDf)\n",
    "validCompanyProfileSequences = convertCompanyProfilesToPaddedSequences(validDataDf)\n",
    "validDescriptionSequences = convertDescriptionsToPaddedSequences(validDataDf)\n",
    "validRequirementsSequences = convertRequirementsToPaddedSequences(validDataDf)\n",
    "validBenefitsSequences = convertBenefitsToPaddedSequences(validDataDf)"
   ],
   "metadata": {
    "collapsed": false,
    "pycharm": {
     "name": "#%%\n"
    }
   }
  },
  {
   "cell_type": "code",
   "execution_count": 10,
   "outputs": [],
   "source": [
    "posValidExamples = validDataDf[validDataDf[FRAUDULENT_LABEL] == True]\n",
    "numPosValidExamples = posValidExamples.shape[0]\n",
    "\n",
    "numValidExamples = validDataDf.shape[0]\n",
    "\n",
    "validPosFrac = numPosValidExamples/numValidExamples\n",
    "\n",
    "validTelecommuting =  validDataDf[TELECOMMUTING_LABEL].astype(\"float32\").to_numpy()\n",
    "validTelecommuting = np.reshape(validTelecommuting, (numValidExamples, 1))\n",
    "\n",
    "validHasLogo =  validDataDf[HAS_LOGO_LABEL].astype(\"float32\").to_numpy()\n",
    "validHasLogo = np.reshape(validHasLogo, (numValidExamples, 1))\n",
    "\n",
    "validHasQuestions =  validDataDf[HAS_QUESTIONS_LABEL].astype(\"float32\").to_numpy()\n",
    "validHasQuestions = np.reshape(validHasQuestions, (numValidExamples, 1))\n",
    "\n",
    "validLabels = validDataDf[FRAUDULENT_LABEL].astype(\"int32\").to_numpy()\n",
    "validLabels = np.reshape(validLabels, (numValidExamples, 1))"
   ],
   "metadata": {
    "collapsed": false,
    "pycharm": {
     "name": "#%%\n"
    }
   }
  },
  {
   "cell_type": "code",
   "execution_count": 11,
   "outputs": [
    {
     "name": "stdout",
     "output_type": "stream",
     "text": [
      "cutting outlier salary value(s) at index  513  within a subset of the data\n",
      " min=  6266624.0 ; max=  8582080.0 ; midpoint=  7424352.0 ; range=  2315456.0\n"
     ]
    }
   ],
   "source": [
    "#for each value of each categorical attribute, converting an index for a list of attribute values \n",
    "# into a vector of 0s with a 1 in that index's position\n",
    "validExamplesIndexArray = np.arange(numValidExamples)\n",
    "\n",
    "employmentTypesArray = validDataDf[EMPLOYMENT_TYPE_LABEL].to_numpy()\n",
    "employmentTypesValidVectors = np.zeros((numValidExamples, NUM_EMPLOYMENT_TYPE_OPTIONS), dtype=\"float32\")\n",
    "employmentTypesValidVectors[validExamplesIndexArray, employmentTypesArray] = 1\n",
    "\n",
    "requiredExperienceArray = validDataDf[REQUIRED_EXPERIENCE_LABEL].to_numpy()\n",
    "requiredExperienceValidVectors = np.zeros((numValidExamples, NUM_REQUIRED_EXPERIENCE_OPTIONS), dtype=\"float32\")\n",
    "requiredExperienceValidVectors[validExamplesIndexArray, requiredExperienceArray] = 1\n",
    "\n",
    "requiredEducationArray = validDataDf[REQUIRED_EDUCATION_LABEL].to_numpy()\n",
    "requiredEducationValidVectors = np.zeros((numValidExamples, NUM_REQUIRED_EDUCATION_OPTIONS), dtype=\"float32\")\n",
    "requiredEducationValidVectors[validExamplesIndexArray, requiredEducationArray] = 1\n",
    "\n",
    "industryArray = validDataDf[INDUSTRY_LABEL].to_numpy()\n",
    "industryValidVectors = np.zeros((numValidExamples, NUM_INDUSTRY_OPTIONS), dtype=\"float32\")\n",
    "industryValidVectors[validExamplesIndexArray, industryArray] = 1\n",
    "\n",
    "functionArray = validDataDf[FUNCTION_LABEL].to_numpy()\n",
    "functionValidVectors = np.zeros((numValidExamples, NUM_FUNCTION_OPTIONS), dtype=\"float32\")\n",
    "functionValidVectors[validExamplesIndexArray, functionArray] = 1\n",
    "\n",
    "\n",
    "validSalaryData = normalizeSalaryData(validDataDf)"
   ],
   "metadata": {
    "collapsed": false,
    "pycharm": {
     "name": "#%%\n"
    }
   }
  },
  {
   "cell_type": "code",
   "execution_count": 13,
   "outputs": [
    {
     "name": "stdout",
     "output_type": "stream",
     "text": [
      "Model: \"model\"\n",
      "__________________________________________________________________________________________________\n",
      "Layer (type)                    Output Shape         Param #     Connected to                     \n",
      "==================================================================================================\n",
      "descriptionTextInput (InputLaye [(None, 301)]        0                                            \n",
      "__________________________________________________________________________________________________\n",
      "titleTextInput (InputLayer)     [(None, 9)]          0                                            \n",
      "__________________________________________________________________________________________________\n",
      "locationTextInput (InputLayer)  [(None, 6)]          0                                            \n",
      "__________________________________________________________________________________________________\n",
      "departmentTextInput (InputLayer [(None, 4)]          0                                            \n",
      "__________________________________________________________________________________________________\n",
      "companyProfileTextInput (InputL [(None, 201)]        0                                            \n",
      "__________________________________________________________________________________________________\n",
      "requirementsTextInput (InputLay [(None, 201)]        0                                            \n",
      "__________________________________________________________________________________________________\n",
      "benefitsTextInput (InputLayer)  [(None, 126)]        0                                            \n",
      "__________________________________________________________________________________________________\n",
      "descriptionEmbedding (Embedding (None, 301, 150)     5020800     descriptionTextInput[0][0]       \n",
      "__________________________________________________________________________________________________\n",
      "titleEmbedding (Embedding)      (None, 9, 150)       706500      titleTextInput[0][0]             \n",
      "__________________________________________________________________________________________________\n",
      "locationEmbedding (Embedding)   (None, 6, 150)       350550      locationTextInput[0][0]          \n",
      "__________________________________________________________________________________________________\n",
      "departmentEmbedding (Embedding) (None, 4, 150)       159300      departmentTextInput[0][0]        \n",
      "__________________________________________________________________________________________________\n",
      "companyProfileEmbedding (Embedd (None, 201, 150)     2029350     companyProfileTextInput[0][0]    \n",
      "__________________________________________________________________________________________________\n",
      "requirementsEmbedding (Embeddin (None, 201, 150)     3789150     requirementsTextInput[0][0]      \n",
      "__________________________________________________________________________________________________\n",
      "benefitsEmbedding (Embedding)   (None, 126, 150)     1757850     benefitsTextInput[0][0]          \n",
      "__________________________________________________________________________________________________\n",
      "bidirectional (Bidirectional)   (None, 800)          1763200     descriptionEmbedding[0][0]       \n",
      "__________________________________________________________________________________________________\n",
      "titleLstm (LSTM)                (None, 400)          881600      titleEmbedding[0][0]             \n",
      "__________________________________________________________________________________________________\n",
      "locationLstm (LSTM)             (None, 400)          881600      locationEmbedding[0][0]          \n",
      "__________________________________________________________________________________________________\n",
      "departmentLstm (LSTM)           (None, 400)          881600      departmentEmbedding[0][0]        \n",
      "__________________________________________________________________________________________________\n",
      "bidirectional_1 (Bidirectional) (None, 800)          1763200     companyProfileEmbedding[0][0]    \n",
      "__________________________________________________________________________________________________\n",
      "bidirectional_2 (Bidirectional) (None, 800)          1763200     requirementsEmbedding[0][0]      \n",
      "__________________________________________________________________________________________________\n",
      "bidirectional_3 (Bidirectional) (None, 800)          1763200     benefitsEmbedding[0][0]          \n",
      "__________________________________________________________________________________________________\n",
      "descriptionDropout (Dropout)    (None, 800)          0           bidirectional[0][0]              \n",
      "__________________________________________________________________________________________________\n",
      "titleDropout (Dropout)          (None, 400)          0           titleLstm[0][0]                  \n",
      "__________________________________________________________________________________________________\n",
      "locationDropout (Dropout)       (None, 400)          0           locationLstm[0][0]               \n",
      "__________________________________________________________________________________________________\n",
      "departmentDropout (Dropout)     (None, 400)          0           departmentLstm[0][0]             \n",
      "__________________________________________________________________________________________________\n",
      "companyProfileDropout (Dropout) (None, 800)          0           bidirectional_1[0][0]            \n",
      "__________________________________________________________________________________________________\n",
      "requirementsDropout (Dropout)   (None, 800)          0           bidirectional_2[0][0]            \n",
      "__________________________________________________________________________________________________\n",
      "benefitsDropout (Dropout)       (None, 800)          0           bidirectional_3[0][0]            \n",
      "__________________________________________________________________________________________________\n",
      "descriptionBatchNormalization ( (None, 800)          3200        descriptionDropout[0][0]         \n",
      "__________________________________________________________________________________________________\n",
      "titleBatchNormalization (BatchN (None, 400)          1600        titleDropout[0][0]               \n",
      "__________________________________________________________________________________________________\n",
      "locationBatchNormalization (Bat (None, 400)          1600        locationDropout[0][0]            \n",
      "__________________________________________________________________________________________________\n",
      "departmentBatchNormalization (B (None, 400)          1600        departmentDropout[0][0]          \n",
      "__________________________________________________________________________________________________\n",
      "companyProfileBatchNormalizatio (None, 800)          3200        companyProfileDropout[0][0]      \n",
      "__________________________________________________________________________________________________\n",
      "requirementsBatchNormalization  (None, 800)          3200        requirementsDropout[0][0]        \n",
      "__________________________________________________________________________________________________\n",
      "benefitsBatchNormalization (Bat (None, 800)          3200        benefitsDropout[0][0]            \n",
      "__________________________________________________________________________________________________\n",
      "employmentTypeInput (InputLayer [(None, 6)]          0                                            \n",
      "__________________________________________________________________________________________________\n",
      "requiredExperienceInput (InputL [(None, 8)]          0                                            \n",
      "__________________________________________________________________________________________________\n",
      "requiredEducationInput (InputLa [(None, 14)]         0                                            \n",
      "__________________________________________________________________________________________________\n",
      "industryInput (InputLayer)      [(None, 132)]        0                                            \n",
      "__________________________________________________________________________________________________\n",
      "functionInput (InputLayer)      [(None, 38)]         0                                            \n",
      "__________________________________________________________________________________________________\n",
      "telecommutingInput (InputLayer) [(None, 1)]          0                                            \n",
      "__________________________________________________________________________________________________\n",
      "hasLogoInput (InputLayer)       [(None, 1)]          0                                            \n",
      "__________________________________________________________________________________________________\n",
      "hasQuestionsInput (InputLayer)  [(None, 1)]          0                                            \n",
      "__________________________________________________________________________________________________\n",
      "salaryInput (InputLayer)        [(None, 6)]          0                                            \n",
      "__________________________________________________________________________________________________\n",
      "fullMerge (Concatenate)         (None, 4607)         0           descriptionBatchNormalization[0][\n",
      "                                                                 titleBatchNormalization[0][0]    \n",
      "                                                                 locationBatchNormalization[0][0] \n",
      "                                                                 departmentBatchNormalization[0][0\n",
      "                                                                 companyProfileBatchNormalization[\n",
      "                                                                 requirementsBatchNormalization[0]\n",
      "                                                                 benefitsBatchNormalization[0][0] \n",
      "                                                                 employmentTypeInput[0][0]        \n",
      "                                                                 requiredExperienceInput[0][0]    \n",
      "                                                                 requiredEducationInput[0][0]     \n",
      "                                                                 industryInput[0][0]              \n",
      "                                                                 functionInput[0][0]              \n",
      "                                                                 telecommutingInput[0][0]         \n",
      "                                                                 hasLogoInput[0][0]               \n",
      "                                                                 hasQuestionsInput[0][0]          \n",
      "                                                                 salaryInput[0][0]                \n",
      "__________________________________________________________________________________________________\n",
      "firstFullDense (Dense)          (None, 750)          3456000     fullMerge[0][0]                  \n",
      "__________________________________________________________________________________________________\n",
      "firstFullDropout (Dropout)      (None, 750)          0           firstFullDense[0][0]             \n",
      "__________________________________________________________________________________________________\n",
      "secondFullDense (Dense)         (None, 500)          375500      firstFullDropout[0][0]           \n",
      "__________________________________________________________________________________________________\n",
      "secondFullDropout (Dropout)     (None, 500)          0           secondFullDense[0][0]            \n",
      "__________________________________________________________________________________________________\n",
      "thirdFullDense (Dense)          (None, 250)          125250      secondFullDropout[0][0]          \n",
      "__________________________________________________________________________________________________\n",
      "thirdFullDropout (Dropout)      (None, 250)          0           thirdFullDense[0][0]             \n",
      "__________________________________________________________________________________________________\n",
      "fourthFullDense (Dense)         (None, 125)          31375       thirdFullDropout[0][0]           \n",
      "__________________________________________________________________________________________________\n",
      "fourthFullDropout (Dropout)     (None, 125)          0           fourthFullDense[0][0]            \n",
      "__________________________________________________________________________________________________\n",
      "finalBatchNormalization (BatchN (None, 125)          500         fourthFullDropout[0][0]          \n",
      "__________________________________________________________________________________________________\n",
      "finalPred (Dense)               (None, 1)            126         finalBatchNormalization[0][0]    \n",
      "__________________________________________________________________________________________________\n",
      "descSidePred (Dense)            (None, 1)            801         descriptionBatchNormalization[0][\n",
      "__________________________________________________________________________________________________\n",
      "titleSidePred (Dense)           (None, 1)            401         titleBatchNormalization[0][0]    \n",
      "__________________________________________________________________________________________________\n",
      "locSidePred (Dense)             (None, 1)            401         locationBatchNormalization[0][0] \n",
      "__________________________________________________________________________________________________\n",
      "deptSidePred (Dense)            (None, 1)            401         departmentBatchNormalization[0][0\n",
      "__________________________________________________________________________________________________\n",
      "compProfSidePred (Dense)        (None, 1)            801         companyProfileBatchNormalization[\n",
      "__________________________________________________________________________________________________\n",
      "reqsSidePred (Dense)            (None, 1)            801         requirementsBatchNormalization[0]\n",
      "__________________________________________________________________________________________________\n",
      "benefitsSidePred (Dense)        (None, 1)            801         benefitsBatchNormalization[0][0] \n",
      "==================================================================================================\n",
      "Total params: 27,521,858\n",
      "Trainable params: 27,512,808\n",
      "Non-trainable params: 9,050\n",
      "__________________________________________________________________________________________________\n",
      "None\n"
     ]
    }
   ],
   "source": [
    "#todo experiment with more weight on primary prediction\n",
    "MAIN_PRED_WEIGHT=0.65\n",
    "DESCRIPTION_SIDE_PRED_WEIGHT=0.05\n",
    "TITLE_SIDE_PRED_WEIGHT=0.05\n",
    "LOCATION_SIDE_PRED_WEIGHT=0.05\n",
    "DEPARTMENT_SIDE_PRED_WEIGHT=0.05\n",
    "COMPANY_PROFILE_SIDE_PRED_WEIGHT=0.05\n",
    "REQUIREMENTS_SIDE_PRED_WEIGHT=0.05\n",
    "BENEFITS_SIDE_PRED_WEIGHT=0.05\n",
    "\n",
    "predictionLossWeights = [MAIN_PRED_WEIGHT, DESCRIPTION_SIDE_PRED_WEIGHT, TITLE_SIDE_PRED_WEIGHT, \n",
    "                         LOCATION_SIDE_PRED_WEIGHT, DEPARTMENT_SIDE_PRED_WEIGHT,\n",
    "                        COMPANY_PROFILE_SIDE_PRED_WEIGHT, REQUIREMENTS_SIDE_PRED_WEIGHT, BENEFITS_SIDE_PRED_WEIGHT]\n",
    "\n",
    "fraudOptimizer = optimizers.Nadam(learning_rate=LEARNING_RATE)\n",
    "\n",
    "fraudModel.compile(loss=[\"binary_crossentropy\"]*NUM_OUTPUTS, loss_weights=predictionLossWeights, \n",
    "                   optimizer=fraudOptimizer,\n",
    "                   metrics=[metrics.AUC()])\n",
    "print(fraudModel.summary())\n",
    "\n",
    "# from tensorflow.keras.utils import plot_model\n",
    "# plot_model(fraudModel, to_file=\"model_visualisation.png\")"
   ],
   "metadata": {
    "collapsed": false,
    "pycharm": {
     "name": "#%%\n"
    }
   }
  },
  {
   "cell_type": "code",
   "execution_count": 14,
   "outputs": [],
   "source": [
    "CHECKPOINT_NAME_FORMAT=\"weights_after_{epoch:02d}-val_loss{val_loss:.4f}.hdf5\"\n",
    "checkpointFilePath = os.path.join(CHECKPOINT_DIR_PATH, CHECKPOINT_NAME_FORMAT)\n",
    "checkpointer = callbacks.ModelCheckpoint(filepath=checkpointFilePath, save_best_only=True)\n",
    "earlyStopper = callbacks.EarlyStopping(monitor=EARLY_STOPPING_MONITOR, mode=EARLY_STOPPING_MODE,\n",
    "                                       patience=EARLY_STOPPING_PATIENCE, verbose=1, min_delta=1e-9,\n",
    "                                       restore_best_weights=True)\n",
    "\n",
    "tboardLogName = datetime.now().strftime(\"%Y%m%d-%H%M%S\")\n",
    "tboardLogPath = os.path.join(TENSORBOARD_DIR_PATH, tboardLogName)\n",
    "tboardCallback = callbacks.TensorBoard(log_dir=tboardLogPath)\n",
    "\n",
    "\n",
    "#todo knockout test whether this actually helps auc\n",
    "trainClassWeights = {0:1, 1:1/trainPosFrac}\n",
    "\n",
    "trainInputs = [\n",
    "    employmentTypesTrainVectors, requiredExperienceTrainVectors, requiredEducationTrainVectors,\n",
    "    industryTrainVectors, functionTrainVectors, trainTelecommuting, trainHasLogo, trainHasQuestions, trainSalaryData,\n",
    "    trainDescriptionSequences, trainTitleSequences, trainLocationSequences, trainDepartmentSequences ,\n",
    "    trainCompanyProfileSequences, trainRequirementsSequences, trainBenefitsSequences]\n",
    "\n",
    "validInputs= [\n",
    "    employmentTypesValidVectors, requiredExperienceValidVectors, requiredEducationValidVectors, industryValidVectors,\n",
    "      functionValidVectors, validTelecommuting, validHasLogo, validHasQuestions, validSalaryData,\n",
    "      validDescriptionSequences, validTitleSequences, validLocationSequences, validDepartmentSequences,\n",
    "      validCompanyProfileSequences, validRequirementsSequences, validBenefitsSequences]"
   ],
   "metadata": {
    "collapsed": false,
    "pycharm": {
     "name": "#%%\n"
    }
   }
  },
  {
   "cell_type": "code",
   "execution_count": 15,
   "outputs": [
    {
     "name": "stderr",
     "output_type": "stream",
     "text": [
      "c:\\users\\ssili\\pycharmprojects\\jobpostingfrauddetection\\venv\\lib\\site-packages\\tensorflow_core\\python\\framework\\indexed_slices.py:433: UserWarning: Converting sparse IndexedSlices to a dense Tensor of unknown shape. This may consume a large amount of memory.\n",
      "  \"Converting sparse IndexedSlices to a dense Tensor of unknown shape. \"\n",
      "c:\\users\\ssili\\pycharmprojects\\jobpostingfrauddetection\\venv\\lib\\site-packages\\tensorflow_core\\python\\framework\\indexed_slices.py:433: UserWarning: Converting sparse IndexedSlices to a dense Tensor of unknown shape. This may consume a large amount of memory.\n",
      "  \"Converting sparse IndexedSlices to a dense Tensor of unknown shape. \"\n"
     ]
    },
    {
     "name": "stdout",
     "output_type": "stream",
     "text": [
      "Restoring model weights from the end of the best epoch.\n",
      "Epoch 00028: early stopping\n"
     ]
    }
   ],
   "source": [
    "trainHist = fraudModel.fit(trainInputs, [trainLabels]*NUM_OUTPUTS,\n",
    "    class_weight=[trainClassWeights]*NUM_OUTPUTS, verbose=1,\n",
    "    validation_data=(validInputs, [validLabels]*NUM_OUTPUTS),\n",
    "    epochs=NUM_EPOCHS, batch_size=BATCH_SIZE,\n",
    "    callbacks=[earlyStopper, checkpointer, tboardCallback])"
   ],
   "metadata": {
    "collapsed": false,
    "pycharm": {
     "name": "#%%\n"
    }
   }
  },
  {
   "cell_type": "code",
   "execution_count": 16,
   "outputs": [],
   "source": [
    "validPredictionOutputs = fraudModel.predict(validInputs)\n",
    "validPreds = validPredictionOutputs[0]"
   ],
   "metadata": {
    "collapsed": false,
    "pycharm": {
     "name": "#%%\n"
    }
   }
  },
  {
   "cell_type": "code",
   "execution_count": 17,
   "outputs": [
    {
     "name": "stdout",
     "output_type": "stream",
     "text": [
      "on  validation  data, the  comprehensive neural network model  achieved:\n",
      " accuracy=  0.8937360178970917 ; balanced accuracy =  0.8930582348685797 \n",
      "F1 score=  0.448742746615087 ; AUROC score=  0.953602001446829 \n",
      "Precision=  0.2997416020671835 ; Recall=  0.8923076923076924\n",
      "Area under ROC curve (should equal AUROC score above):  0.953602001446829\n"
     ]
    },
    {
     "data": {
      "text/plain": "<Figure size 432x288 with 1 Axes>",
      "image/png": "[encoded data removed]"
     },
     "metadata": {
      "needs_background": "light"
     },
     "output_type": "display_data"
    }
   ],
   "source": [
    "evaluateModel(\"comprehensive neural network model\", \"validation\", validLabels, validPreds)"
   ],
   "metadata": {
    "collapsed": false,
    "pycharm": {
     "name": "#%%\n"
    }
   }
  },
  {
   "cell_type": "code",
   "execution_count": 18,
   "outputs": [],
   "source": [],
   "metadata": {
    "collapsed": false,
    "pycharm": {
     "name": "#%%\n"
    }
   }
  }
 ],
 "metadata": {
  "kernelspec": {
   "display_name": "Python 3",
   "language": "python",
   "name": "python3"
  },
  "language_info": {
   "codemirror_mode": {
    "name": "ipython",
    "version": 2
   },
   "file_extension": ".py",
   "mimetype": "text/x-python",
   "name": "python",
   "nbconvert_exporter": "python",
   "pygments_lexer": "ipython2",
   "version": "2.7.6"
  }
 },
 "nbformat": 4,
 "nbformat_minor": 0
}