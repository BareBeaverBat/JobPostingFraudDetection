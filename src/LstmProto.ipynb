{
 "cells": [
  {
   "cell_type": "code",
   "execution_count": 1,
   "metadata": {
    "collapsed": true
   },
   "outputs": [],
   "source": [
    "import tensorflow as tf\n",
    "from tensorflow.keras.preprocessing.text import Tokenizer\n",
    "import pandas as pd\n",
    "import numpy as np\n",
    "\n",
    "from DataNamesReference import *\n",
    "from LstmTraining import getNonEmptyLines\n",
    "\n",
    "\n",
    "EMBED_DIM = 100\n",
    "\n",
    "MAX_TITLE_LEN = 8\n",
    "MAX_LOC_LEN =5\n",
    "MAX_DEPT_LEN = 3\n",
    "MAX_COMPANY_PROFILE_LEN = 200\n",
    "MAX_DESCRIPTION_LEN = 300\n",
    "MAX_REQUIREMENTS_LEN=200\n",
    "MAX_BENEFITS_LEN = 125\n",
    "\n",
    "#currently deciding not to limit vocab size"
   ]
  },
  {
   "cell_type": "code",
   "execution_count": null,
   "outputs": [],
   "source": [
    "trainDataDf = pd.read_csv(TRAIN_DATA_PATH)"
   ],
   "metadata": {
    "collapsed": false,
    "pycharm": {
     "name": "#%%\n"
    }
   }
  },
  {
   "cell_type": "code",
   "execution_count": null,
   "outputs": [],
   "source": [
    "#todo do final preprocessing on each text attrib\n",
    "allTitles = getNonEmptyLines(titlesSummaryFilePath)\n",
    "titleTokenizer = Tokenizer()\n",
    "titleTokenizer.fit_on_texts()\n"
   ],
   "metadata": {
    "collapsed": false,
    "pycharm": {
     "name": "#%%\n"
    }
   }
  },
  {
   "cell_type": "code",
   "execution_count": null,
   "outputs": [],
   "source": [
    "#todo build lstm model for a text attrib\n",
    "\n",
    "#todo build mlp model for some categ attribs\n",
    "\n",
    "#todo combine component models into final output model"
   ],
   "metadata": {
    "collapsed": false,
    "pycharm": {
     "name": "#%%\n"
    }
   }
  },
  {
   "cell_type": "code",
   "execution_count": null,
   "outputs": [],
   "source": [
    "#todo train on training data"
   ],
   "metadata": {
    "collapsed": false,
    "pycharm": {
     "name": "#%%\n"
    }
   }
  },
  {
   "cell_type": "code",
   "execution_count": null,
   "outputs": [],
   "source": [
    "#todo evaluate on validation data\n"
   ],
   "metadata": {
    "collapsed": false,
    "pycharm": {
     "name": "#%%\n"
    }
   }
  }
 ],
 "metadata": {
  "kernelspec": {
   "display_name": "Python 3",
   "language": "python",
   "name": "python3"
  },
  "language_info": {
   "codemirror_mode": {
    "name": "ipython",
    "version": 2
   },
   "file_extension": ".py",
   "mimetype": "text/x-python",
   "name": "python",
   "nbconvert_exporter": "python",
   "pygments_lexer": "ipython2",
   "version": "2.7.6"
  }
 },
 "nbformat": 4,
 "nbformat_minor": 0
}