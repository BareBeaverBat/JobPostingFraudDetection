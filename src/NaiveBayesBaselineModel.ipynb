{
 "cells": [
  {
   "cell_type": "code",
   "execution_count": 1,
   "metadata": {
    "collapsed": true
   },
   "outputs": [],
   "source": [
    "from DataNamesReference import *\n",
    "from UtilityFuncs import getNonEmptyLines\n",
    "from UtilityFuncs import evaluateModel\n",
    "import pandas as pd\n",
    "import numpy as np\n",
    "import sklearn as skl\n",
    "from sklearn.feature_extraction.text import TfidfVectorizer\n",
    "import sklearn.naive_bayes as sklNaiveBayes\n",
    "import sklearn.metrics as metrics\n",
    "\n",
    "import matplotlib.pyplot as plt\n"
   ]
  },
  {
   "cell_type": "code",
   "execution_count": 2,
   "outputs": [],
   "source": [
    "SOURCE_DATASET_PATH= datasetDirPath\n"
   ],
   "metadata": {
    "collapsed": false,
    "pycharm": {
     "name": "#%%\n"
    }
   }
  },
  {
   "cell_type": "code",
   "execution_count": 3,
   "outputs": [],
   "source": [
    "employmentTypeOptionsFilePath = os.path.join(SOURCE_DATASET_PATH, EMPLOYMENT_TYPE_OPTIONS_FILE_NAME)\n",
    "requiredExperienceOptionsFilePath = os.path.join(SOURCE_DATASET_PATH, REQUIRED_EXPERIENCE_OPTIONS_FILE_NAME)\n",
    "requiredEducationOptionsFilePath = os.path.join(SOURCE_DATASET_PATH, REQUIRED_EDUCATION_OPTIONS_FILE_NAME)\n",
    "industryOptionsFilePath = os.path.join(SOURCE_DATASET_PATH, INDUSTRY_OPTIONS_FILE_NAME)\n",
    "functionOptionsFilePath = os.path.join(SOURCE_DATASET_PATH, FUNCTION_OPTIONS_FILE_NAME)\n",
    "\n",
    "\n",
    "with open(employmentTypeOptionsFilePath) as employmentTypeOptionsFile:\n",
    "    employmentTypeOptions = employmentTypeOptionsFile.read().splitlines()\n",
    "\n",
    "with open(requiredExperienceOptionsFilePath) as requiredExperienceOptionsFile:\n",
    "    requiredExperienceOptions = requiredExperienceOptionsFile.read().splitlines()\n",
    "\n",
    "with open(requiredEducationOptionsFilePath) as requiredEducationOptionsFile:\n",
    "    requiredEducationOptions = requiredEducationOptionsFile.read().splitlines()\n",
    "\n",
    "with open(industryOptionsFilePath) as industryOptionsFile:\n",
    "    industryOptions = industryOptionsFile.read().splitlines()\n",
    "\n",
    "with open(functionOptionsFilePath) as functionOptionsFile:\n",
    "    functionOptions = functionOptionsFile.read().splitlines()"
   ],
   "metadata": {
    "collapsed": false,
    "pycharm": {
     "name": "#%%\n"
    }
   }
  },
  {
   "cell_type": "code",
   "execution_count": 4,
   "outputs": [],
   "source": [
    "def convertDfToStrings(dataDf):\n",
    "    caseStrings = []\n",
    "\n",
    "    for caseIndex, caseRow in dataDf.iterrows():\n",
    "        currCaseString = \"\"\n",
    "        if caseRow[TELECOMMUTING_LABEL]:\n",
    "            currCaseString += \"telecommmute \"\n",
    "        if caseRow[HAS_LOGO_LABEL]:\n",
    "            currCaseString += \"has_logo \"\n",
    "        if caseRow[HAS_QUESTIONS_LABEL]:\n",
    "            currCaseString += \"has_questions \"\n",
    "\n",
    "        employmentTypeInd = caseRow[EMPLOYMENT_TYPE_LABEL]\n",
    "        currCaseString += employmentTypeOptions[employmentTypeInd] + \" \"\n",
    "\n",
    "        requiredExperienceInd = caseRow[REQUIRED_EXPERIENCE_LABEL]\n",
    "        currCaseString += requiredExperienceOptions[requiredExperienceInd] + \" \"\n",
    "\n",
    "        requiredEducationInd = caseRow[REQUIRED_EDUCATION_LABEL]\n",
    "        currCaseString += requiredEducationOptions[requiredEducationInd] + \" \"\n",
    "\n",
    "        industryInd = caseRow[INDUSTRY_LABEL]\n",
    "        currCaseString += industryOptions[industryInd] + \" \"\n",
    "\n",
    "        functionInd = caseRow[FUNCTION_LABEL]\n",
    "        currCaseString += functionOptions[functionInd] + \" \"\n",
    "\n",
    "        currCaseString += caseRow[TITLE_LABEL] + \" \"\n",
    "        currCaseString += caseRow[LOCATION_LABEL] + \" \"\n",
    "        currCaseString += caseRow[DEPARTMENT_LABEL] + \" \"\n",
    "        currCaseString += caseRow[COMPANY_PROFILE_LABEL] + \" \"\n",
    "        currCaseString += caseRow[DESCRIPTION_LABEL] + \" \"\n",
    "        currCaseString += caseRow[REQUIREMENTS_LABEL] + \" \"\n",
    "        currCaseString += caseRow[BENEFITS_LABEL] + \" \"\n",
    "        \n",
    "        caseStrings.append(currCaseString)\n",
    "    \n",
    "    return caseStrings"
   ],
   "metadata": {
    "collapsed": false,
    "pycharm": {
     "name": "#%%\n"
    }
   }
  },
  {
   "cell_type": "code",
   "execution_count": 5,
   "outputs": [],
   "source": [
    "trainDataDf = pd.read_csv(TRAIN_DATA_PATH, **CSV_READ_ARGS)\n",
    "trainDataStrings = convertDfToStrings(trainDataDf)\n",
    "trainLabels = trainDataDf[FRAUDULENT_LABEL].to_numpy()"
   ],
   "metadata": {
    "collapsed": false,
    "pycharm": {
     "name": "#%%\n"
    }
   }
  },
  {
   "cell_type": "code",
   "execution_count": 6,
   "outputs": [],
   "source": [
    "dataVectorizer = TfidfVectorizer()\n",
    "trainDataMatrix = dataVectorizer.fit_transform(trainDataStrings)"
   ],
   "metadata": {
    "collapsed": false,
    "pycharm": {
     "name": "#%%\n"
    }
   }
  },
  {
   "cell_type": "code",
   "execution_count": 7,
   "outputs": [
    {
     "data": {
      "text/plain": "ComplementNB(alpha=1.0, class_prior=None, fit_prior=True, norm=False)"
     },
     "execution_count": 7,
     "metadata": {},
     "output_type": "execute_result"
    }
   ],
   "source": [
    "naiveBayesPredictor = sklNaiveBayes.ComplementNB()\n",
    "naiveBayesPredictor.fit(trainDataMatrix, trainLabels)\n"
   ],
   "metadata": {
    "collapsed": false,
    "pycharm": {
     "name": "#%%\n"
    }
   }
  },
  {
   "cell_type": "code",
   "execution_count": 8,
   "outputs": [],
   "source": [
    "validDataDf = pd.read_csv(VALIDATION_DATA_PATH, **CSV_READ_ARGS)\n",
    "validDataStrings = convertDfToStrings(validDataDf)"
   ],
   "metadata": {
    "collapsed": false,
    "pycharm": {
     "name": "#%%\n"
    }
   }
  },
  {
   "cell_type": "code",
   "execution_count": 9,
   "outputs": [],
   "source": [
    "validDataMatrix = dataVectorizer.transform(validDataStrings)\n",
    "validPreds = naiveBayesPredictor.predict_proba(validDataMatrix)\n",
    "validPreds = [probabilityPreds[1] for probabilityPreds in validPreds]"
   ],
   "metadata": {
    "collapsed": false,
    "pycharm": {
     "name": "#%%\n"
    }
   }
  },
  {
   "cell_type": "code",
   "execution_count": 10,
   "outputs": [
    {
     "name": "stdout",
     "output_type": "stream",
     "text": [
      "on  validation  data, the  naive bayes baseline predictor  achieved:\n",
      " accuracy=  0.9519015659955258 ; balanced accuracy =  0.5038461538461538 \n",
      "F1 score=  0.015267175572519085 ; AUROC score=  0.8675608873884736 \n",
      "Precision=  1.0 ; Recall=  0.007692307692307693\n",
      "Area under ROC curve (should equal AUROC score above):  0.8675608873884735\n"
     ]
    },
    {
     "data": {
      "text/plain": "<Figure size 432x288 with 1 Axes>",
      "image/png": "[encoded data removed]"
     },
     "metadata": {
      "needs_background": "light"
     },
     "output_type": "display_data"
    }
   ],
   "source": [
    "validLabels = validDataDf[FRAUDULENT_LABEL].to_numpy().astype(\"float64\")\n",
    "\n",
    "evaluateModel(\"naive bayes baseline predictor\", \"validation\", validLabels, validPreds)\n"
   ],
   "metadata": {
    "collapsed": false,
    "pycharm": {
     "name": "#%%\n"
    }
   }
  },
  {
   "cell_type": "code",
   "execution_count": 11,
   "outputs": [
    {
     "name": "stdout",
     "output_type": "stream",
     "text": [
      "built-in ROC curve plotter:\n",
      "so the actual AUC for validation data is 0.87\n"
     ]
    },
    {
     "data": {
      "text/plain": "<Figure size 432x288 with 1 Axes>",
      "image/png": "[encoded data removed]"
     },
     "metadata": {
      "needs_background": "light"
     },
     "output_type": "display_data"
    }
   ],
   "source": [
    "print(\"built-in ROC curve plotter:\")\n",
    "metrics.plot_roc_curve(naiveBayesPredictor, validDataMatrix, validLabels)\n",
    "plt.show()\n",
    "print(\"so the actual AUC for validation data is 0.87\")"
   ],
   "metadata": {
    "collapsed": false,
    "pycharm": {
     "name": "#%%\n"
    }
   }
  },
  {
   "cell_type": "code",
   "execution_count": 12,
   "outputs": [],
   "source": [
    "#todo run against test set\n",
    "\n",
    "testDataDf = pd.read_csv(TEST_DATA_PATH, **CSV_READ_ARGS)\n",
    "testDataStrings = convertDfToStrings(testDataDf)"
   ],
   "metadata": {
    "collapsed": false,
    "pycharm": {
     "name": "#%%\n"
    }
   }
  },
  {
   "cell_type": "code",
   "execution_count": 13,
   "outputs": [],
   "source": [
    "testDataMatrix = dataVectorizer.transform(testDataStrings)\n",
    "testPreds = naiveBayesPredictor.predict_proba(testDataMatrix)\n",
    "testPreds = [probabilityPreds[1] for probabilityPreds in testPreds]"
   ],
   "metadata": {
    "collapsed": false,
    "pycharm": {
     "name": "#%%\n"
    }
   }
  },
  {
   "cell_type": "code",
   "execution_count": 14,
   "outputs": [
    {
     "name": "stdout",
     "output_type": "stream",
     "text": [
      "on  test  data, the  naive bayes baseline predictor  achieved:\n",
      " accuracy=  0.9511740588893031 ; balanced accuracy =  0.49980415197806505 \n",
      "F1 score=  0.0 ; AUROC score=  0.8543252282382717 \n",
      "Precision=  0.0 ; Recall=  0.0\n",
      "Area under ROC curve (should equal AUROC score above):  0.8543252282382716\n"
     ]
    },
    {
     "data": {
      "text/plain": "<Figure size 432x288 with 1 Axes>",
      "image/png": "[encoded data removed]"
     },
     "metadata": {
      "needs_background": "light"
     },
     "output_type": "display_data"
    }
   ],
   "source": [
    "testLabels = testDataDf[FRAUDULENT_LABEL].to_numpy().astype(\"float64\")\n",
    "\n",
    "evaluateModel(\"naive bayes baseline predictor\", \"test\", testLabels, testPreds)\n"
   ],
   "metadata": {
    "collapsed": false,
    "pycharm": {
     "name": "#%%\n"
    }
   }
  },
  {
   "cell_type": "code",
   "execution_count": 15,
   "outputs": [
    {
     "name": "stdout",
     "output_type": "stream",
     "text": [
      "built-in ROC curve plotter:\n",
      "so the actual AUC for test data is 0.87\n"
     ]
    },
    {
     "data": {
      "text/plain": "<Figure size 432x288 with 1 Axes>",
      "image/png": "[encoded data removed]"
     },
     "metadata": {
      "needs_background": "light"
     },
     "output_type": "display_data"
    }
   ],
   "source": [
    "print(\"built-in ROC curve plotter:\")\n",
    "metrics.plot_roc_curve(naiveBayesPredictor, testDataMatrix, testLabels)\n",
    "plt.show()\n",
    "print(\"so the actual AUC for test data is 0.87\")"
   ],
   "metadata": {
    "collapsed": false,
    "pycharm": {
     "name": "#%%\n"
    }
   }
  }
 ],
 "metadata": {
  "kernelspec": {
   "display_name": "Python 3",
   "language": "python",
   "name": "python3"
  },
  "language_info": {
   "codemirror_mode": {
    "name": "ipython",
    "version": 2
   },
   "file_extension": ".py",
   "mimetype": "text/x-python",
   "name": "python",
   "nbconvert_exporter": "python",
   "pygments_lexer": "ipython2",
   "version": "2.7.6"
  }
 },
 "nbformat": 4,
 "nbformat_minor": 0
}