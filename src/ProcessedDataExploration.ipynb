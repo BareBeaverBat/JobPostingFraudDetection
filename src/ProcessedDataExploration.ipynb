{
 "cells": [
  {
   "cell_type": "code",
   "execution_count": 1,
   "outputs": [],
   "source": [
    "import os\n",
    "import numpy as np\n",
    "import re\n",
    "from tensorflow import keras\n",
    "import matplotlib.pyplot as plt\n",
    "%matplotlib inline\n",
    "\n",
    "from DataNamesReference import *\n",
    "from UtilityFuncs import getNonEmptyLines\n",
    "\n",
    "\n",
    "\n",
    "def getLineWordLengths(filePath):\n",
    "    lineTokenCounts = []\n",
    "\n",
    "    dataLines = getNonEmptyLines(filePath)\n",
    "    for dataLine in dataLines:\n",
    "        numTokens = len(dataLine.split())\n",
    "        lineTokenCounts.append(numTokens)\n",
    "\n",
    "    return lineTokenCounts\n",
    "\n",
    "def analyzeWordLengths(wordLengths):\n",
    "    avgWordLen = np.mean(wordLengths)\n",
    "    topHalfDeciles = np.quantile(wordLengths, [0.5, 0.6, 0.7, 0.8, 0.9, 0.95, 0.98, 1])\n",
    "    print(\"average word length= \", avgWordLen)\n",
    "    print(\"50th, 60th, 70th, 80th, 90th, 95th, 98th, and 100th percentile word lengths:\\n\", topHalfDeciles)\n",
    "\n"
   ],
   "metadata": {
    "collapsed": false,
    "pycharm": {
     "name": "#%%\n"
    }
   }
  },
  {
   "cell_type": "code",
   "execution_count": 2,
   "outputs": [
    {
     "name": "stdout",
     "output_type": "stream",
     "text": [
      "title word lengths:\n",
      "average word length=  3.728187919463087\n",
      "50th, 60th, 70th, 80th, 90th, 95th, 98th, and 100th percentile word lengths:\n",
      " [ 3.  4.  4.  5.  6.  8. 10. 19.]\n",
      "location word lengths:\n",
      "average word length=  3.0627352572145545\n",
      "50th, 60th, 70th, 80th, 90th, 95th, 98th, and 100th percentile word lengths:\n",
      " [ 3.  3.  3.  4.  4.  4.  5. 22.]\n",
      "department word lengths:\n",
      "average word length=  1.3977865612648221\n",
      "50th, 60th, 70th, 80th, 90th, 95th, 98th, and 100th percentile word lengths:\n",
      " [ 1.  1.  2.  2.  2.  3.  3. 39.]\n",
      "company profile word lengths:\n",
      "average word length=  71.4923140269009\n",
      "50th, 60th, 70th, 80th, 90th, 95th, 98th, and 100th percentile word lengths:\n",
      " [ 65.  71.  83. 107. 134. 169. 225. 560.]\n",
      "description word lengths:\n",
      "average word length=  114.59829968119023\n",
      "50th, 60th, 70th, 80th, 90th, 95th, 98th, and 100th percentile word lengths:\n",
      " [  96.   116.   136.   168.4  219.   270.   337.  1461. ]\n",
      "requirements word lengths:\n",
      "average word length=  68.64664031620553\n",
      "50th, 60th, 70th, 80th, 90th, 95th, 98th, and 100th percentile word lengths:\n",
      " [  56.   68.   80.  100.  132.  171.  237. 1037.]\n",
      "benefits word lengths:\n",
      "average word length=  34.9949300535161\n",
      "50th, 60th, 70th, 80th, 90th, 95th, 98th, and 100th percentile word lengths:\n",
      " [ 24.  32.  43.  57.  76. 101. 137. 486.]\n"
     ]
    }
   ],
   "source": [
    "\n",
    "titleWordLengths = getLineWordLengths(TITLES_SUMMARY_FILE_PATH)\n",
    "locationWordLengths = getLineWordLengths(LOCATIONS_SUMMARY_FILE_PATH)\n",
    "departmentWordLengths = getLineWordLengths(DEPARTMENTS_SUMMARY_FILE_PATH)\n",
    "companyProfileWordLengths = getLineWordLengths(COMPANY_PROFILES_SUMMARY_FILE_PATH)\n",
    "descriptionWordLengths = getLineWordLengths(DESCRIPTIONS_SUMMARY_FILE_PATH)\n",
    "requirementsWordLengths = getLineWordLengths(REQUIREMENTS_SUMMARY_FILE_PATH)\n",
    "benefitWordLengths = getLineWordLengths(BENEFITS_SUMMARY_FILE_PATH)\n",
    "\n",
    "print(\"title word lengths:\")\n",
    "analyzeWordLengths(titleWordLengths)\n",
    "print(\"location word lengths:\")\n",
    "analyzeWordLengths(locationWordLengths)\n",
    "print(\"department word lengths:\")\n",
    "analyzeWordLengths(departmentWordLengths)\n",
    "print(\"company profile word lengths:\")\n",
    "analyzeWordLengths(companyProfileWordLengths)\n",
    "print(\"description word lengths:\")\n",
    "analyzeWordLengths(descriptionWordLengths)\n",
    "print(\"requirements word lengths:\")\n",
    "analyzeWordLengths(requirementsWordLengths)\n",
    "print(\"benefits word lengths:\")\n",
    "analyzeWordLengths(benefitWordLengths)\n"
   ],
   "metadata": {
    "collapsed": false,
    "pycharm": {
     "name": "#%%\n"
    }
   }
  },
  {
   "cell_type": "code",
   "execution_count": 3,
   "outputs": [],
   "source": [
    "def countTermsUnderXFreq(termFreqs, cutoff):\n",
    "    numTermsUnderX = len([freqVal for freqVal  in termFreqs if freqVal < cutoff ])\n",
    "    print(\"%d distinct terms under %d\" % (numTermsUnderX, cutoff))\n",
    "    return numTermsUnderX\n",
    "\n",
    "def analyzeTermFrequencies(docsFilePath):\n",
    "    docs = getNonEmptyLines(docsFilePath)\n",
    "    docsTokenizer = keras.preprocessing.text.Tokenizer()\n",
    "    docsTokenizer.fit_on_texts(docs)\n",
    "    docsTermFrequencies = docsTokenizer.word_counts\n",
    "    numTerms = len(docsTermFrequencies)\n",
    "    print(\"%d distinct terms\" % numTerms)\n",
    "    docsFrequencyNums = docsTermFrequencies.values()\n",
    "\n",
    "    plt.hist(docsFrequencyNums, bins=30)\n",
    "    termsUnder100 = countTermsUnderXFreq(docsFrequencyNums, 100)\n",
    "    termsUnder50 = countTermsUnderXFreq(docsFrequencyNums, 50)\n",
    "    termsUnder25 = countTermsUnderXFreq(docsFrequencyNums, 25)\n",
    "    termsUnder10 = countTermsUnderXFreq(docsFrequencyNums, 10)\n",
    "    termsUnder5 = countTermsUnderXFreq(docsFrequencyNums, 5)\n",
    "    termsUnder3 = countTermsUnderXFreq(docsFrequencyNums, 3)\n",
    "    termsUnder2 = countTermsUnderXFreq(docsFrequencyNums, 2)\n",
    "\n",
    "    print(\"vocab size for everything used 50 or more times: \", numTerms - termsUnder50)\n",
    "    print(\"vocab size for everything used 25 or more times: \", numTerms - termsUnder25)\n",
    "    print(\"vocab size for everything used 10 or more times: \", numTerms - termsUnder10)\n",
    "    print(\"vocab size for everything used 5 or more times: \", numTerms - termsUnder5)\n",
    "    print(\"vocab size for everything used 3 or more times: \", numTerms - termsUnder3)\n",
    "    print(\"vocab size for everything used 2 or more times: \", numTerms - termsUnder2)"
   ],
   "metadata": {
    "collapsed": false,
    "pycharm": {
     "name": "#%%\n"
    }
   }
  },
  {
   "cell_type": "code",
   "execution_count": 4,
   "outputs": [
    {
     "name": "stdout",
     "output_type": "stream",
     "text": [
      "for title term frequencies:\n",
      "4708 distinct terms\n",
      "4585 distinct terms under 100\n",
      "4486 distinct terms under 50\n",
      "4316 distinct terms under 25\n",
      "3933 distinct terms under 10\n",
      "3434 distinct terms under 5\n",
      "2798 distinct terms under 3\n",
      "2126 distinct terms under 2\n",
      "vocab size for everything used 50 or more times:  222\n",
      "vocab size for everything used 25 or more times:  392\n",
      "vocab size for everything used 10 or more times:  775\n",
      "vocab size for everything used 5 or more times:  1274\n",
      "vocab size for everything used 3 or more times:  1910\n",
      "vocab size for everything used 2 or more times:  2582\n"
     ]
    },
    {
     "data": {
      "text/plain": "<Figure size 432x288 with 1 Axes>",
      "image/png": "[encoded data removed]"
     },
     "metadata": {
      "needs_background": "light"
     },
     "output_type": "display_data"
    }
   ],
   "source": [
    "print(\"for title term frequencies:\")\n",
    "analyzeTermFrequencies(TITLES_SUMMARY_FILE_PATH)"
   ],
   "metadata": {
    "collapsed": false,
    "pycharm": {
     "name": "#%%\n"
    }
   }
  },
  {
   "cell_type": "code",
   "execution_count": 5,
   "outputs": [
    {
     "name": "stdout",
     "output_type": "stream",
     "text": [
      "for location term frequencies:\n",
      "2335 distinct terms\n",
      "2265 distinct terms under 100\n",
      "2207 distinct terms under 50\n",
      "2088 distinct terms under 25\n",
      "1862 distinct terms under 10\n",
      "1536 distinct terms under 5\n",
      "1216 distinct terms under 3\n",
      "802 distinct terms under 2\n",
      "vocab size for everything used 50 or more times:  128\n",
      "vocab size for everything used 25 or more times:  247\n",
      "vocab size for everything used 10 or more times:  473\n",
      "vocab size for everything used 5 or more times:  799\n",
      "vocab size for everything used 3 or more times:  1119\n",
      "vocab size for everything used 2 or more times:  1533\n"
     ]
    },
    {
     "data": {
      "text/plain": "<Figure size 432x288 with 1 Axes>",
      "image/png": "[encoded data removed]"
     },
     "metadata": {
      "needs_background": "light"
     },
     "output_type": "display_data"
    }
   ],
   "source": [
    "print(\"for location term frequencies:\")\n",
    "analyzeTermFrequencies(LOCATIONS_SUMMARY_FILE_PATH)"
   ],
   "metadata": {
    "collapsed": false,
    "pycharm": {
     "name": "#%%\n"
    }
   }
  },
  {
   "cell_type": "code",
   "execution_count": 6,
   "outputs": [
    {
     "name": "stdout",
     "output_type": "stream",
     "text": [
      "for department term frequencies:\n",
      "1060 distinct terms\n",
      "1042 distinct terms under 100\n",
      "1032 distinct terms under 50\n",
      "1002 distinct terms under 25\n",
      "938 distinct terms under 10\n",
      "833 distinct terms under 5\n",
      "695 distinct terms under 3\n",
      "528 distinct terms under 2\n",
      "vocab size for everything used 50 or more times:  28\n",
      "vocab size for everything used 25 or more times:  58\n",
      "vocab size for everything used 10 or more times:  122\n",
      "vocab size for everything used 5 or more times:  227\n",
      "vocab size for everything used 3 or more times:  365\n",
      "vocab size for everything used 2 or more times:  532\n"
     ]
    },
    {
     "data": {
      "text/plain": "<Figure size 432x288 with 1 Axes>",
      "image/png": "[encoded data removed]"
     },
     "metadata": {
      "needs_background": "light"
     },
     "output_type": "display_data"
    }
   ],
   "source": [
    "print(\"for department term frequencies:\")\n",
    "analyzeTermFrequencies(DEPARTMENTS_SUMMARY_FILE_PATH)"
   ],
   "metadata": {
    "collapsed": false,
    "pycharm": {
     "name": "#%%\n"
    }
   }
  },
  {
   "cell_type": "code",
   "execution_count": 7,
   "outputs": [
    {
     "name": "stdout",
     "output_type": "stream",
     "text": [
      "for company profile term frequencies:\n",
      "13527 distinct terms\n",
      "11684 distinct terms under 100\n",
      "10547 distinct terms under 50\n",
      "8996 distinct terms under 25\n",
      "6448 distinct terms under 10\n",
      "4462 distinct terms under 5\n",
      "3004 distinct terms under 3\n",
      "1861 distinct terms under 2\n",
      "vocab size for everything used 50 or more times:  2980\n",
      "vocab size for everything used 25 or more times:  4531\n",
      "vocab size for everything used 10 or more times:  7079\n",
      "vocab size for everything used 5 or more times:  9065\n",
      "vocab size for everything used 3 or more times:  10523\n",
      "vocab size for everything used 2 or more times:  11666\n"
     ]
    },
    {
     "data": {
      "text/plain": "<Figure size 432x288 with 1 Axes>",
      "image/png": "[encoded data removed]"
     },
     "metadata": {
      "needs_background": "light"
     },
     "output_type": "display_data"
    }
   ],
   "source": [
    "print(\"for company profile term frequencies:\")\n",
    "analyzeTermFrequencies(COMPANY_PROFILES_SUMMARY_FILE_PATH)"
   ],
   "metadata": {
    "collapsed": false,
    "pycharm": {
     "name": "#%%\n"
    }
   }
  },
  {
   "cell_type": "code",
   "execution_count": 8,
   "outputs": [
    {
     "name": "stdout",
     "output_type": "stream",
     "text": [
      "for description term frequencies:\n",
      "33470 distinct terms\n",
      "30643 distinct terms under 100\n",
      "29148 distinct terms under 50\n",
      "27262 distinct terms under 25\n",
      "23589 distinct terms under 10\n",
      "20047 distinct terms under 5\n",
      "16412 distinct terms under 3\n",
      "12222 distinct terms under 2\n",
      "vocab size for everything used 50 or more times:  4322\n",
      "vocab size for everything used 25 or more times:  6208\n",
      "vocab size for everything used 10 or more times:  9881\n",
      "vocab size for everything used 5 or more times:  13423\n",
      "vocab size for everything used 3 or more times:  17058\n",
      "vocab size for everything used 2 or more times:  21248\n"
     ]
    },
    {
     "data": {
      "text/plain": "<Figure size 432x288 with 1 Axes>",
      "image/png": "[encoded data removed]"
     },
     "metadata": {
      "needs_background": "light"
     },
     "output_type": "display_data"
    }
   ],
   "source": [
    "print(\"for description term frequencies:\")\n",
    "analyzeTermFrequencies(DESCRIPTIONS_SUMMARY_FILE_PATH)"
   ],
   "metadata": {
    "collapsed": false,
    "pycharm": {
     "name": "#%%\n"
    }
   }
  },
  {
   "cell_type": "code",
   "execution_count": 9,
   "outputs": [
    {
     "name": "stdout",
     "output_type": "stream",
     "text": [
      "for requirements term frequencies:\n",
      "25259 distinct terms\n",
      "23686 distinct terms under 100\n",
      "22787 distinct terms under 50\n",
      "21589 distinct terms under 25\n",
      "19218 distinct terms under 10\n",
      "16561 distinct terms under 5\n",
      "13799 distinct terms under 3\n",
      "10456 distinct terms under 2\n",
      "vocab size for everything used 50 or more times:  2472\n",
      "vocab size for everything used 25 or more times:  3670\n",
      "vocab size for everything used 10 or more times:  6041\n",
      "vocab size for everything used 5 or more times:  8698\n",
      "vocab size for everything used 3 or more times:  11460\n",
      "vocab size for everything used 2 or more times:  14803\n"
     ]
    },
    {
     "data": {
      "text/plain": "<Figure size 432x288 with 1 Axes>",
      "image/png": "[encoded data removed]"
     },
     "metadata": {
      "needs_background": "light"
     },
     "output_type": "display_data"
    }
   ],
   "source": [
    "print(\"for requirements term frequencies:\")\n",
    "analyzeTermFrequencies(REQUIREMENTS_SUMMARY_FILE_PATH)"
   ],
   "metadata": {
    "collapsed": false,
    "pycharm": {
     "name": "#%%\n"
    }
   }
  },
  {
   "cell_type": "code",
   "execution_count": 10,
   "outputs": [
    {
     "name": "stdout",
     "output_type": "stream",
     "text": [
      "for benefits term frequencies:\n",
      "11717 distinct terms\n",
      "10989 distinct terms under 100\n",
      "10476 distinct terms under 50\n",
      "9697 distinct terms under 25\n",
      "8155 distinct terms under 10\n",
      "6599 distinct terms under 5\n",
      "5240 distinct terms under 3\n",
      "3703 distinct terms under 2\n",
      "vocab size for everything used 50 or more times:  1241\n",
      "vocab size for everything used 25 or more times:  2020\n",
      "vocab size for everything used 10 or more times:  3562\n",
      "vocab size for everything used 5 or more times:  5118\n",
      "vocab size for everything used 3 or more times:  6477\n",
      "vocab size for everything used 2 or more times:  8014\n"
     ]
    },
    {
     "data": {
      "text/plain": "<Figure size 432x288 with 1 Axes>",
      "image/png": "[encoded data removed]"
     },
     "metadata": {
      "needs_background": "light"
     },
     "output_type": "display_data"
    }
   ],
   "source": [
    "print(\"for benefits term frequencies:\")\n",
    "analyzeTermFrequencies(BENEFITS_SUMMARY_FILE_PATH)"
   ],
   "metadata": {
    "collapsed": false,
    "pycharm": {
     "name": "#%%\n"
    }
   }
  },
  {
   "cell_type": "code",
   "execution_count": 10,
   "outputs": [],
   "source": [],
   "metadata": {
    "collapsed": false,
    "pycharm": {
     "name": "#%%\n"
    }
   }
  },
  {
   "cell_type": "code",
   "execution_count": 10,
   "outputs": [],
   "source": [
    "\n"
   ],
   "metadata": {
    "collapsed": false,
    "pycharm": {
     "name": "#%%\n"
    }
   }
  }
 ],
 "metadata": {
  "kernelspec": {
   "display_name": "Python 3",
   "language": "python",
   "name": "python3"
  },
  "language_info": {
   "codemirror_mode": {
    "name": "ipython",
    "version": 2
   },
   "file_extension": ".py",
   "mimetype": "text/x-python",
   "name": "python",
   "nbconvert_exporter": "python",
   "pygments_lexer": "ipython2",
   "version": "2.7.6"
  }
 },
 "nbformat": 4,
 "nbformat_minor": 0
}