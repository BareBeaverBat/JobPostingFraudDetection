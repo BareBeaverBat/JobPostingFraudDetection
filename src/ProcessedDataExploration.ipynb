{
 "cells": [
  {
   "cell_type": "code",
   "execution_count": 13,
   "outputs": [],
   "source": [
    "import Preprocessing\n",
    "import os\n",
    "import numpy as np\n",
    "import re\n",
    "from tensorflow import keras\n",
    "import matplotlib.pyplot as plt\n",
    "%matplotlib inline\n",
    "\n",
    "def getNonEmptyLines(filePath):\n",
    "    textLines = []\n",
    "    with open(filePath) as dataFile:\n",
    "        for dataLine in dataFile:\n",
    "            if not re.match(r\"^\\s*$\", dataLine):\n",
    "                textLines.append(dataLine)\n",
    "\n",
    "    return textLines\n",
    "\n",
    "def getLineWordLengths(filePath):\n",
    "    lineTokenCounts = []\n",
    "\n",
    "    dataLines = getNonEmptyLines(filePath)\n",
    "    for dataLine in dataLines:\n",
    "        numTokens = len(dataLine.split())\n",
    "        lineTokenCounts.append(numTokens)\n",
    "\n",
    "    return lineTokenCounts\n",
    "\n",
    "def analyzeWordLengths(wordLengths):\n",
    "    avgWordLen = np.mean(wordLengths)\n",
    "    topHalfDeciles = np.quantile(wordLengths, [0.5, 0.6, 0.7, 0.8, 0.9, 0.95, 0.98, 1])\n",
    "    print(\"average word length= \", avgWordLen)\n",
    "    print(\"50th, 60th, 70th, 80th, 90th, 95th, 98th, and 100th percentile word lengths:\\n\", topHalfDeciles)\n",
    "\n"
   ],
   "metadata": {
    "collapsed": false,
    "pycharm": {
     "name": "#%%\n"
    }
   }
  },
  {
   "cell_type": "code",
   "execution_count": 10,
   "outputs": [
    {
     "name": "stdout",
     "output_type": "stream",
     "text": [
      "title word lengths:\n",
      "average word length=  3.727908277404922\n",
      "50th, 60th, 70th, 80th, 90th, 95th, 98th, and 100th percentile word lengths:\n",
      " [ 3.  4.  4.  5.  6.  8. 10. 18.]\n",
      "location word lengths:\n",
      "average word length=  3.062792289266568\n",
      "50th, 60th, 70th, 80th, 90th, 95th, 98th, and 100th percentile word lengths:\n",
      " [ 3.  3.  3.  4.  4.  4.  5. 22.]\n",
      "department word lengths:\n",
      "average word length=  1.3977865612648221\n",
      "50th, 60th, 70th, 80th, 90th, 95th, 98th, and 100th percentile word lengths:\n",
      " [ 1.  1.  2.  2.  2.  3.  3. 39.]\n",
      "company profile word lengths:\n",
      "average word length=  70.7895964864123\n",
      "50th, 60th, 70th, 80th, 90th, 95th, 98th, and 100th percentile word lengths:\n",
      " [ 64.  69.  81. 106. 133. 167. 223. 556.]\n",
      "description word lengths:\n",
      "average word length=  111.51378712455954\n",
      "50th, 60th, 70th, 80th, 90th, 95th, 98th, and 100th percentile word lengths:\n",
      " [  93.   111.   132.6  164.   213.   263.   329.  1461. ]\n",
      "requirements word lengths:\n",
      "average word length=  65.23353096179183\n",
      "50th, 60th, 70th, 80th, 90th, 95th, 98th, and 100th percentile word lengths:\n",
      " [  53.     64.     76.     95.    126.    165.05  226.   1028.  ]\n",
      "benefits word lengths:\n",
      "average word length=  33.59994366726129\n",
      "50th, 60th, 70th, 80th, 90th, 95th, 98th, and 100th percentile word lengths:\n",
      " [ 23.  31.  41.  55.  74.  98. 134. 479.]\n"
     ]
    }
   ],
   "source": [
    "titlesSummaryFilePath = os.path.join(Preprocessing.datasetDirPath, Preprocessing.TITLES_SUMMARY_FILENAME)\n",
    "locationsSummaryFilePath = os.path.join(Preprocessing.datasetDirPath, Preprocessing.LOCATIONS_SUMMARY_FILENAME)\n",
    "departmentsSummaryFilePath = os.path.join(Preprocessing.datasetDirPath, Preprocessing.DEPARTMENTS_SUMMARY_FILENAME)\n",
    "companyProfilesSummaryFilePath = os.path.join(Preprocessing.datasetDirPath, Preprocessing.COMPANY_PROFILES_SUMMARY_FILENAME)\n",
    "descriptionsSummaryFilePath = os.path.join(Preprocessing.datasetDirPath, Preprocessing.DESCRIPTIONS_SUMMARY_FILENAME)\n",
    "requirementsSummaryFilePath = os.path.join(Preprocessing.datasetDirPath, Preprocessing.REQUIREMENTS_SUMMARY_FILENAME)\n",
    "benefitsSummaryFilePath = os.path.join(Preprocessing.datasetDirPath, Preprocessing.BENEFITS_SUMMARY_FILENAME)\n",
    "\n",
    "titleWordLengths = getLineWordLengths(titlesSummaryFilePath)\n",
    "locationWordLengths = getLineWordLengths(locationsSummaryFilePath)\n",
    "departmentWordLengths = getLineWordLengths(departmentsSummaryFilePath)\n",
    "companyProfileWordLengths = getLineWordLengths(companyProfilesSummaryFilePath)\n",
    "descriptionWordLengths = getLineWordLengths(descriptionsSummaryFilePath)\n",
    "requirementsWordLengths = getLineWordLengths(requirementsSummaryFilePath)\n",
    "benefitWordLengths = getLineWordLengths(benefitsSummaryFilePath)\n",
    "\n",
    "print(\"title word lengths:\")\n",
    "analyzeWordLengths(titleWordLengths)\n",
    "print(\"location word lengths:\")\n",
    "analyzeWordLengths(locationWordLengths)\n",
    "print(\"department word lengths:\")\n",
    "analyzeWordLengths(departmentWordLengths)\n",
    "print(\"company profile word lengths:\")\n",
    "analyzeWordLengths(companyProfileWordLengths)\n",
    "print(\"description word lengths:\")\n",
    "analyzeWordLengths(descriptionWordLengths)\n",
    "print(\"requirements word lengths:\")\n",
    "analyzeWordLengths(requirementsWordLengths)\n",
    "print(\"benefits word lengths:\")\n",
    "analyzeWordLengths(benefitWordLengths)\n"
   ],
   "metadata": {
    "collapsed": false,
    "pycharm": {
     "name": "#%%\n"
    }
   }
  },
  {
   "cell_type": "code",
   "execution_count": 44,
   "outputs": [],
   "source": [
    "def countTermsUnderXFreq(termFreqs, cutoff):\n",
    "    numTermsUnderX = len([freqVal for freqVal  in termFreqs if freqVal < cutoff ])\n",
    "    print(\"%d distinct terms under %d\" % (numTermsUnderX, cutoff))\n",
    "    return numTermsUnderX\n",
    "\n",
    "def analyzeTermFrequencies(docsFilePath):\n",
    "    docs = getNonEmptyLines(docsFilePath)\n",
    "    docsTokenizer = keras.preprocessing.text.Tokenizer()\n",
    "    docsTokenizer.fit_on_texts(docs)\n",
    "    docsTermFrequencies = docsTokenizer.word_counts\n",
    "    numTerms = len(docsTermFrequencies)\n",
    "    print(\"%d distinct terms\" % numTerms)\n",
    "    docsFrequencyNums = docsTermFrequencies.values()\n",
    "\n",
    "    plt.hist(docsFrequencyNums, bins=30)\n",
    "    termsUnder100 = countTermsUnderXFreq(docsFrequencyNums, 100)\n",
    "    termsUnder50 = countTermsUnderXFreq(docsFrequencyNums, 50)\n",
    "    termsUnder25 = countTermsUnderXFreq(docsFrequencyNums, 25)\n",
    "    termsUnder10 = countTermsUnderXFreq(docsFrequencyNums, 10)\n",
    "    termsUnder5 = countTermsUnderXFreq(docsFrequencyNums, 5)\n",
    "    termsUnder3 = countTermsUnderXFreq(docsFrequencyNums, 3)\n",
    "    termsUnder2 = countTermsUnderXFreq(docsFrequencyNums, 2)\n",
    "\n",
    "    print(\"vocab size for everything used 50 or more times: \", numTerms - termsUnder50)\n",
    "    print(\"vocab size for everything used 25 or more times: \", numTerms - termsUnder25)\n",
    "    print(\"vocab size for everything used 10 or more times: \", numTerms - termsUnder10)\n",
    "    print(\"vocab size for everything used 5 or more times: \", numTerms - termsUnder5)\n",
    "    print(\"vocab size for everything used 3 or more times: \", numTerms - termsUnder3)\n",
    "    print(\"vocab size for everything used 2 or more times: \", numTerms - termsUnder2)"
   ],
   "metadata": {
    "collapsed": false,
    "pycharm": {
     "name": "#%%\n"
    }
   }
  },
  {
   "cell_type": "code",
   "execution_count": 45,
   "outputs": [
    {
     "name": "stdout",
     "output_type": "stream",
     "text": [
      "for title term frequencies:\n",
      "4708 distinct terms\n",
      "4585 distinct terms under 100\n",
      "4486 distinct terms under 50\n",
      "4316 distinct terms under 25\n",
      "3933 distinct terms under 10\n",
      "3434 distinct terms under 5\n",
      "2797 distinct terms under 3\n",
      "2128 distinct terms under 2\n",
      "vocab size for everything used 50 or more times:  222\n",
      "vocab size for everything used 25 or more times:  392\n",
      "vocab size for everything used 10 or more times:  775\n",
      "vocab size for everything used 5 or more times:  1274\n",
      "vocab size for everything used 3 or more times:  1911\n",
      "vocab size for everything used 2 or more times:  2580\n"
     ]
    },
    {
     "data": {
      "text/plain": "<Figure size 432x288 with 1 Axes>",
      "image/png": "[encoded data removed]"
     },
     "metadata": {
      "needs_background": "light"
     },
     "output_type": "display_data"
    }
   ],
   "source": [
    "print(\"for title term frequencies:\")\n",
    "analyzeTermFrequencies(titlesSummaryFilePath)"
   ],
   "metadata": {
    "collapsed": false,
    "pycharm": {
     "name": "#%%\n"
    }
   }
  },
  {
   "cell_type": "code",
   "execution_count": 46,
   "outputs": [
    {
     "name": "stdout",
     "output_type": "stream",
     "text": [
      "for location term frequencies:\n",
      "2335 distinct terms\n",
      "2265 distinct terms under 100\n",
      "2207 distinct terms under 50\n",
      "2088 distinct terms under 25\n",
      "1862 distinct terms under 10\n",
      "1536 distinct terms under 5\n",
      "1216 distinct terms under 3\n",
      "802 distinct terms under 2\n",
      "vocab size for everything used 50 or more times:  128\n",
      "vocab size for everything used 25 or more times:  247\n",
      "vocab size for everything used 10 or more times:  473\n",
      "vocab size for everything used 5 or more times:  799\n",
      "vocab size for everything used 3 or more times:  1119\n",
      "vocab size for everything used 2 or more times:  1533\n"
     ]
    },
    {
     "data": {
      "text/plain": "<Figure size 432x288 with 1 Axes>",
      "image/png": "[encoded data removed]"
     },
     "metadata": {
      "needs_background": "light"
     },
     "output_type": "display_data"
    }
   ],
   "source": [
    "print(\"for location term frequencies:\")\n",
    "analyzeTermFrequencies(locationsSummaryFilePath)"
   ],
   "metadata": {
    "collapsed": false,
    "pycharm": {
     "name": "#%%\n"
    }
   }
  },
  {
   "cell_type": "code",
   "execution_count": 47,
   "outputs": [
    {
     "name": "stdout",
     "output_type": "stream",
     "text": [
      "for department term frequencies:\n",
      "1060 distinct terms\n",
      "1042 distinct terms under 100\n",
      "1032 distinct terms under 50\n",
      "1002 distinct terms under 25\n",
      "938 distinct terms under 10\n",
      "833 distinct terms under 5\n",
      "695 distinct terms under 3\n",
      "528 distinct terms under 2\n",
      "vocab size for everything used 50 or more times:  28\n",
      "vocab size for everything used 25 or more times:  58\n",
      "vocab size for everything used 10 or more times:  122\n",
      "vocab size for everything used 5 or more times:  227\n",
      "vocab size for everything used 3 or more times:  365\n",
      "vocab size for everything used 2 or more times:  532\n"
     ]
    },
    {
     "data": {
      "text/plain": "<Figure size 432x288 with 1 Axes>",
      "image/png": "[encoded data removed]"
     },
     "metadata": {
      "needs_background": "light"
     },
     "output_type": "display_data"
    }
   ],
   "source": [
    "print(\"for department term frequencies:\")\n",
    "analyzeTermFrequencies(departmentsSummaryFilePath)"
   ],
   "metadata": {
    "collapsed": false,
    "pycharm": {
     "name": "#%%\n"
    }
   }
  },
  {
   "cell_type": "code",
   "execution_count": 48,
   "outputs": [
    {
     "name": "stdout",
     "output_type": "stream",
     "text": [
      "for company profile term frequencies:\n",
      "14341 distinct terms\n",
      "12531 distinct terms under 100\n",
      "11375 distinct terms under 50\n",
      "9808 distinct terms under 25\n",
      "7110 distinct terms under 10\n",
      "4984 distinct terms under 5\n",
      "3362 distinct terms under 3\n",
      "2065 distinct terms under 2\n",
      "vocab size for everything used 50 or more times:  2966\n",
      "vocab size for everything used 25 or more times:  4533\n",
      "vocab size for everything used 10 or more times:  7231\n",
      "vocab size for everything used 5 or more times:  9357\n",
      "vocab size for everything used 3 or more times:  10979\n",
      "vocab size for everything used 2 or more times:  12276\n"
     ]
    },
    {
     "data": {
      "text/plain": "<Figure size 432x288 with 1 Axes>",
      "image/png": "[encoded data removed]"
     },
     "metadata": {
      "needs_background": "light"
     },
     "output_type": "display_data"
    }
   ],
   "source": [
    "print(\"for company profile term frequencies:\")\n",
    "analyzeTermFrequencies(companyProfilesSummaryFilePath)"
   ],
   "metadata": {
    "collapsed": false,
    "pycharm": {
     "name": "#%%\n"
    }
   }
  },
  {
   "cell_type": "code",
   "execution_count": 49,
   "outputs": [
    {
     "name": "stdout",
     "output_type": "stream",
     "text": [
      "for description term frequencies:\n",
      "58877 distinct terms\n",
      "56118 distinct terms under 100\n",
      "54648 distinct terms under 50\n",
      "52672 distinct terms under 25\n",
      "48542 distinct terms under 10\n",
      "44103 distinct terms under 5\n",
      "38523 distinct terms under 3\n",
      "30368 distinct terms under 2\n",
      "vocab size for everything used 50 or more times:  4229\n",
      "vocab size for everything used 25 or more times:  6205\n",
      "vocab size for everything used 10 or more times:  10335\n",
      "vocab size for everything used 5 or more times:  14774\n",
      "vocab size for everything used 3 or more times:  20354\n",
      "vocab size for everything used 2 or more times:  28509\n"
     ]
    },
    {
     "data": {
      "text/plain": "<Figure size 432x288 with 1 Axes>",
      "image/png": "[encoded data removed]"
     },
     "metadata": {
      "needs_background": "light"
     },
     "output_type": "display_data"
    }
   ],
   "source": [
    "print(\"for description term frequencies:\")\n",
    "analyzeTermFrequencies(descriptionsSummaryFilePath)"
   ],
   "metadata": {
    "collapsed": false,
    "pycharm": {
     "name": "#%%\n"
    }
   }
  },
  {
   "cell_type": "code",
   "execution_count": 50,
   "outputs": [
    {
     "name": "stdout",
     "output_type": "stream",
     "text": [
      "for requirements term frequencies:\n",
      "48003 distinct terms\n",
      "46493 distinct terms under 100\n",
      "45596 distinct terms under 50\n",
      "44312 distinct terms under 25\n",
      "41567 distinct terms under 10\n",
      "37861 distinct terms under 5\n",
      "33189 distinct terms under 3\n",
      "26273 distinct terms under 2\n",
      "vocab size for everything used 50 or more times:  2407\n",
      "vocab size for everything used 25 or more times:  3691\n",
      "vocab size for everything used 10 or more times:  6436\n",
      "vocab size for everything used 5 or more times:  10142\n",
      "vocab size for everything used 3 or more times:  14814\n",
      "vocab size for everything used 2 or more times:  21730\n"
     ]
    },
    {
     "data": {
      "text/plain": "<Figure size 432x288 with 1 Axes>",
      "image/png": "[encoded data removed]"
     },
     "metadata": {
      "needs_background": "light"
     },
     "output_type": "display_data"
    }
   ],
   "source": [
    "print(\"for requirements term frequencies:\")\n",
    "analyzeTermFrequencies(requirementsSummaryFilePath)"
   ],
   "metadata": {
    "collapsed": false,
    "pycharm": {
     "name": "#%%\n"
    }
   }
  },
  {
   "cell_type": "code",
   "execution_count": 51,
   "outputs": [
    {
     "name": "stdout",
     "output_type": "stream",
     "text": [
      "for benefits term frequencies:\n",
      "15998 distinct terms\n",
      "15307 distinct terms under 100\n",
      "14787 distinct terms under 50\n",
      "13975 distinct terms under 25\n",
      "12226 distinct terms under 10\n",
      "10292 distinct terms under 5\n",
      "8404 distinct terms under 3\n",
      "6164 distinct terms under 2\n",
      "vocab size for everything used 50 or more times:  1211\n",
      "vocab size for everything used 25 or more times:  2023\n",
      "vocab size for everything used 10 or more times:  3772\n",
      "vocab size for everything used 5 or more times:  5706\n",
      "vocab size for everything used 3 or more times:  7594\n",
      "vocab size for everything used 2 or more times:  9834\n"
     ]
    },
    {
     "data": {
      "text/plain": "<Figure size 432x288 with 1 Axes>",
      "image/png": "[encoded data removed]"
     },
     "metadata": {
      "needs_background": "light"
     },
     "output_type": "display_data"
    }
   ],
   "source": [
    "print(\"for benefits term frequencies:\")\n",
    "analyzeTermFrequencies(benefitsSummaryFilePath)"
   ],
   "metadata": {
    "collapsed": false,
    "pycharm": {
     "name": "#%%\n"
    }
   }
  },
  {
   "cell_type": "code",
   "execution_count": null,
   "outputs": [],
   "source": [],
   "metadata": {
    "collapsed": false,
    "pycharm": {
     "name": "#%%\n"
    }
   }
  },
  {
   "cell_type": "code",
   "execution_count": null,
   "outputs": [],
   "source": [
    "\n"
   ],
   "metadata": {
    "collapsed": false,
    "pycharm": {
     "name": "#%%\n"
    }
   }
  }
 ],
 "metadata": {
  "kernelspec": {
   "display_name": "Python 3",
   "language": "python",
   "name": "python3"
  },
  "language_info": {
   "codemirror_mode": {
    "name": "ipython",
    "version": 2
   },
   "file_extension": ".py",
   "mimetype": "text/x-python",
   "name": "python",
   "nbconvert_exporter": "python",
   "pygments_lexer": "ipython2",
   "version": "2.7.6"
  }
 },
 "nbformat": 4,
 "nbformat_minor": 0
}